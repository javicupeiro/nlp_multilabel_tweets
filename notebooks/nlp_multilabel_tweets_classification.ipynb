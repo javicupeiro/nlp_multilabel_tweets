{
 "cells": [
  {
   "cell_type": "markdown",
   "metadata": {},
   "source": [
    "# Tarea NLP\n",
    "\n",
    "## Universidad de Valencia\n",
    "## Máster de Inteligencia Artificial Avanzada y Aplicable\n",
    "\n",
    "### Javier Cupeiro"
   ]
  },
  {
   "cell_type": "markdown",
   "metadata": {},
   "source": [
    "# Problema de Clasificación Multietiqueta\n",
    "\n",
    "Se trata de un problema de clasificación multietiqueta en el que tenéis que etiquetar un conjunto de tweets de acuerdo a 11 sentimientos:\n",
    "\n",
    "- anger\n",
    "- anticipation\n",
    "- disgust\n",
    "- fear\n",
    "- joy\n",
    "- love\n",
    "- optimism\n",
    "- pessimism\n",
    "- sadness\n",
    "- surprise\n",
    "- trust\n",
    "\n",
    "## Conjunto de Datos\n",
    "\n",
    "Disponéis de un conjunto de 3561 tweets etiquetados para entrenar y validar el modelo o modelos necesarios, en el archivo `sem_eval_train_es.csv`.\n",
    "\n",
    "Cada alumno tiene que validar sus modelos sobre el conjunto ciego de test con el nombre `sem_eval_test_blank_es.csv`. Cada Tweet tiene un ID (primera columna) que tenéis que mantener en vuestra solución. Debéis aplicar vuestro modelo entrenado a este conjunto y guardarlo en un archivo CSV de nombre `soluciones_nombre_apellido1_apellido2.csv`. El archivo CSV a entregar debe tener esta estructura de Pandas:\n",
    "\n",
    "```plaintext\n",
    "<class 'pandas.core.frame.DataFrame'>\n",
    "RangeIndex: 679 entries, 0 to 678\n",
    "dtypes: bool(11), object(1)\n",
    "Data columns (total 12 columns):\n",
    "```\n",
    "| #  | Column       | Non-Null Count | Dtype  |\n",
    "|--- | ------       | -------------- | -----  |\n",
    "| 0  | ID           | 679 non-null   | object |\n",
    "| 1  | anger        | 679 non-null   | bool   |\n",
    "| 2  | anticipation | 679 non-null   | bool   |\n",
    "| 3  | disgust      | 679 non-null   | bool   |\n",
    "| 4  | fear         | 679 non-null   | bool   |\n",
    "| 5  | joy          | 679 non-null   | bool   |\n",
    "| 6  | love         | 679 non-null   | bool   |\n",
    "| 7  | optimism     | 679 non-null   | bool   |\n",
    "| 8  | pessimism    | 679 non-null   | bool   |\n",
    "| 9  | sadness      | 679 non-null   | bool   |\n",
    "| 10 | surprise     | 679 non-null   | bool   |\n",
    "| 11 | trust        | 679 non-null   | bool   |\n",
    "\n",
    "\n",
    "\n",
    "\n",
    "Si el archivo no tiene exactamente esa estructura no se podrá evaluar.\n",
    "\n",
    "## Entrega:\n",
    "\n",
    "Cada alumno deberá entregar a través de esta tarea habilitada en AV el archivo CSV de las predicciones en el conjunto ciego de test y todo el código en Python utilizado tanto para el entrenamiento de los modelos como la inferencia en el conjunto ciego de test. El código Python se entregará como Notebook de Jupyter."
   ]
  },
  {
   "cell_type": "markdown",
   "metadata": {},
   "source": [
    "-----"
   ]
  },
  {
   "cell_type": "code",
   "execution_count": 1,
   "metadata": {},
   "outputs": [],
   "source": [
    "# Librerías empleadas\n",
    "import pandas as pd\n",
    "import random\n",
    "import numpy as np\n",
    "import tensorflow as tf\n",
    "import matplotlib.pyplot as plt"
   ]
  },
  {
   "cell_type": "code",
   "execution_count": 2,
   "metadata": {},
   "outputs": [],
   "source": [
    "# Configuramos semillas\n",
    "SEMILLA = 33\n",
    "random.seed(SEMILLA)\n",
    "np.random.seed(SEMILLA)\n",
    "tf.random.set_seed(SEMILLA)"
   ]
  },
  {
   "cell_type": "markdown",
   "metadata": {},
   "source": [
    "---"
   ]
  },
  {
   "cell_type": "markdown",
   "metadata": {},
   "source": [
    "### Empezamos cargando los datos, analizándolos, limpiarlos y prepararlos"
   ]
  },
  {
   "cell_type": "code",
   "execution_count": 5,
   "metadata": {},
   "outputs": [
    {
     "name": "stdout",
     "output_type": "stream",
     "text": [
      "Dimensión: (3561, 13)\n"
     ]
    },
    {
     "data": {
      "text/html": [
       "<div>\n",
       "<style scoped>\n",
       "    .dataframe tbody tr th:only-of-type {\n",
       "        vertical-align: middle;\n",
       "    }\n",
       "\n",
       "    .dataframe tbody tr th {\n",
       "        vertical-align: top;\n",
       "    }\n",
       "\n",
       "    .dataframe thead th {\n",
       "        text-align: right;\n",
       "    }\n",
       "</style>\n",
       "<table border=\"1\" class=\"dataframe\">\n",
       "  <thead>\n",
       "    <tr style=\"text-align: right;\">\n",
       "      <th></th>\n",
       "      <th>ID</th>\n",
       "      <th>Tweet</th>\n",
       "      <th>anger</th>\n",
       "      <th>anticipation</th>\n",
       "      <th>disgust</th>\n",
       "      <th>fear</th>\n",
       "      <th>joy</th>\n",
       "      <th>love</th>\n",
       "      <th>optimism</th>\n",
       "      <th>pessimism</th>\n",
       "      <th>sadness</th>\n",
       "      <th>surprise</th>\n",
       "      <th>trust</th>\n",
       "    </tr>\n",
       "  </thead>\n",
       "  <tbody>\n",
       "    <tr>\n",
       "      <th>645</th>\n",
       "      <td>2018-Es-02393</td>\n",
       "      <td>@MrkHdz El chiste es ayudar colega! En todos l...</td>\n",
       "      <td>False</td>\n",
       "      <td>False</td>\n",
       "      <td>False</td>\n",
       "      <td>False</td>\n",
       "      <td>True</td>\n",
       "      <td>False</td>\n",
       "      <td>True</td>\n",
       "      <td>False</td>\n",
       "      <td>False</td>\n",
       "      <td>False</td>\n",
       "      <td>False</td>\n",
       "    </tr>\n",
       "    <tr>\n",
       "      <th>995</th>\n",
       "      <td>2018-Es-06214</td>\n",
       "      <td>@Sebass_Psi Porque soy una persona responsable...</td>\n",
       "      <td>False</td>\n",
       "      <td>False</td>\n",
       "      <td>False</td>\n",
       "      <td>False</td>\n",
       "      <td>False</td>\n",
       "      <td>False</td>\n",
       "      <td>False</td>\n",
       "      <td>True</td>\n",
       "      <td>True</td>\n",
       "      <td>False</td>\n",
       "      <td>False</td>\n",
       "    </tr>\n",
       "    <tr>\n",
       "      <th>2300</th>\n",
       "      <td>2018-Es-03232</td>\n",
       "      <td>@tom_feliu12 Una fan del DT, que a pesar de lo...</td>\n",
       "      <td>False</td>\n",
       "      <td>False</td>\n",
       "      <td>False</td>\n",
       "      <td>False</td>\n",
       "      <td>True</td>\n",
       "      <td>True</td>\n",
       "      <td>False</td>\n",
       "      <td>False</td>\n",
       "      <td>False</td>\n",
       "      <td>False</td>\n",
       "      <td>False</td>\n",
       "    </tr>\n",
       "    <tr>\n",
       "      <th>1534</th>\n",
       "      <td>2018-Es-04059</td>\n",
       "      <td>Estoy tan ansiosa con el estreno de Game of Th...</td>\n",
       "      <td>False</td>\n",
       "      <td>True</td>\n",
       "      <td>False</td>\n",
       "      <td>False</td>\n",
       "      <td>False</td>\n",
       "      <td>False</td>\n",
       "      <td>False</td>\n",
       "      <td>False</td>\n",
       "      <td>False</td>\n",
       "      <td>False</td>\n",
       "      <td>False</td>\n",
       "    </tr>\n",
       "    <tr>\n",
       "      <th>3480</th>\n",
       "      <td>2018-Es-03705</td>\n",
       "      <td>Es ver eso y romper en llanto😟</td>\n",
       "      <td>False</td>\n",
       "      <td>False</td>\n",
       "      <td>False</td>\n",
       "      <td>False</td>\n",
       "      <td>False</td>\n",
       "      <td>False</td>\n",
       "      <td>False</td>\n",
       "      <td>False</td>\n",
       "      <td>True</td>\n",
       "      <td>False</td>\n",
       "      <td>False</td>\n",
       "    </tr>\n",
       "  </tbody>\n",
       "</table>\n",
       "</div>"
      ],
      "text/plain": [
       "                 ID                                              Tweet  anger  \\\n",
       "645   2018-Es-02393  @MrkHdz El chiste es ayudar colega! En todos l...  False   \n",
       "995   2018-Es-06214  @Sebass_Psi Porque soy una persona responsable...  False   \n",
       "2300  2018-Es-03232  @tom_feliu12 Una fan del DT, que a pesar de lo...  False   \n",
       "1534  2018-Es-04059  Estoy tan ansiosa con el estreno de Game of Th...  False   \n",
       "3480  2018-Es-03705                     Es ver eso y romper en llanto😟  False   \n",
       "\n",
       "      anticipation  disgust   fear    joy   love  optimism  pessimism  \\\n",
       "645          False    False  False   True  False      True      False   \n",
       "995          False    False  False  False  False     False       True   \n",
       "2300         False    False  False   True   True     False      False   \n",
       "1534          True    False  False  False  False     False      False   \n",
       "3480         False    False  False  False  False     False      False   \n",
       "\n",
       "      sadness  surprise  trust  \n",
       "645     False     False  False  \n",
       "995      True     False  False  \n",
       "2300    False     False  False  \n",
       "1534    False     False  False  \n",
       "3480     True     False  False  "
      ]
     },
     "execution_count": 5,
     "metadata": {},
     "output_type": "execute_result"
    }
   ],
   "source": [
    "# Cargamos datos\n",
    "df_train = pd.read_csv('../data/sem_eval_train_es.csv')\n",
    "\n",
    "# Dimensión\n",
    "print(f\"Dimensión: {df_train.shape}\")\n",
    "\n",
    "# Visualización del dataframe\n",
    "df_train.sample(5)"
   ]
  },
  {
   "cell_type": "code",
   "execution_count": 6,
   "metadata": {},
   "outputs": [
    {
     "name": "stdout",
     "output_type": "stream",
     "text": [
      "<class 'pandas.core.frame.DataFrame'>\n",
      "RangeIndex: 3561 entries, 0 to 3560\n",
      "Data columns (total 13 columns):\n",
      " #   Column        Non-Null Count  Dtype \n",
      "---  ------        --------------  ----- \n",
      " 0   ID            3561 non-null   object\n",
      " 1   Tweet         3561 non-null   object\n",
      " 2   anger         3561 non-null   bool  \n",
      " 3   anticipation  3561 non-null   bool  \n",
      " 4   disgust       3561 non-null   bool  \n",
      " 5   fear          3561 non-null   bool  \n",
      " 6   joy           3561 non-null   bool  \n",
      " 7   love          3561 non-null   bool  \n",
      " 8   optimism      3561 non-null   bool  \n",
      " 9   pessimism     3561 non-null   bool  \n",
      " 10  sadness       3561 non-null   bool  \n",
      " 11  surprise      3561 non-null   bool  \n",
      " 12  trust         3561 non-null   bool  \n",
      "dtypes: bool(11), object(2)\n",
      "memory usage: 94.0+ KB\n"
     ]
    }
   ],
   "source": [
    "# Obtenemos información básica\n",
    "df_train.info()"
   ]
  },
  {
   "cell_type": "markdown",
   "metadata": {},
   "source": [
    "Se aprecia que todas las columnas están completas y no hay campos null.\n",
    "\n",
    "Obtenemos ahora cuantas veces se encuentra cada sentimiento:"
   ]
  },
  {
   "cell_type": "code",
   "execution_count": 7,
   "metadata": {},
   "outputs": [
    {
     "name": "stdout",
     "output_type": "stream",
     "text": [
      "Conteo del número de veces que aparece cada sentimiento:\n",
      "anger           1155\n",
      "anticipation     415\n",
      "disgust          521\n",
      "fear             373\n",
      "joy             1087\n",
      "love             261\n",
      "optimism         378\n",
      "pessimism        578\n",
      "sadness          845\n",
      "surprise         169\n",
      "trust            175\n",
      "dtype: int64\n"
     ]
    },
    {
     "data": {
      "image/png": "[encoded data removed]",
      "text/plain": [
       "<Figure size 1000x600 with 1 Axes>"
      ]
     },
     "metadata": {},
     "output_type": "display_data"
    }
   ],
   "source": [
    "# Lista con todas las emociones\n",
    "lista_emociones = ['anger', 'anticipation', 'disgust', 'fear', 'joy', 'love', 'optimism', 'pessimism', 'sadness', 'surprise', 'trust']\n",
    "\n",
    "# Obtenemos el número de veces que cada emoción es 'TRUE'\n",
    "conteo_emociones = df_train[lista_emociones].sum()\n",
    "\n",
    "print(f\"Conteo del número de veces que aparece cada sentimiento:\\n{conteo_emociones}\")\n",
    "\n",
    "# Gráfico\n",
    "plt.figure(figsize=(10, 6))\n",
    "conteo_emociones.sort_values().plot(kind='barh')\n",
    "plt.xlabel('nº apariciones')\n",
    "plt.ylabel('Sentimientos')\n",
    "plt.title('Número de veces que aparece cada sentimiento')\n",
    "plt.grid(axis='x', linestyle='--', alpha=0.7)\n",
    "plt.show()"
   ]
  },
  {
   "cell_type": "markdown",
   "metadata": {},
   "source": [
    "Podemos ver que las emociones no están bien balanceadas ya que 'anger' y 'joy' aparecen mucho más que 'trust' y surprise. ¡Casi un orden de magnitud!\n",
    "\n",
    "Lo ideal sería generar más tweets para balancear el número de apariciones de cada emoción pero disponemos de un dataset muy pequeño. \n",
    "\n",
    "---\n",
    "### Limpieza "
   ]
  },
  {
   "cell_type": "code",
   "execution_count": null,
   "metadata": {},
   "outputs": [],
   "source": []
  }
 ],
 "metadata": {
  "kernelspec": {
   "display_name": "base",
   "language": "python",
   "name": "python3"
  },
  "language_info": {
   "codemirror_mode": {
    "name": "ipython",
    "version": 3
   },
   "file_extension": ".py",
   "mimetype": "text/x-python",
   "name": "python",
   "nbconvert_exporter": "python",
   "pygments_lexer": "ipython3",
   "version": "3.11.4"
  }
 },
 "nbformat": 4,
 "nbformat_minor": 2
}
